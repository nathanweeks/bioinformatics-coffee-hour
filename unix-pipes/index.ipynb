{
 "cells": [
  {
   "cell_type": "markdown",
   "metadata": {
    "slideshow": {
     "slide_type": "slide"
    }
   },
   "source": [
    "## Unix Pipes\n",
    "### Bioinformatics Coffee Hour - June 16, 2020\n",
    "#### Your Host: Nathan Weeks"
   ]
  },
  {
   "cell_type": "markdown",
   "metadata": {
    "slideshow": {
     "slide_type": "slide"
    }
   },
   "source": [
    "## What this lesson will cover\n",
    "* Unix pipes in shell scripts to improve efficiency of simple bioinformatics workflows\n",
    "* _Example:_ Short-read (FASTQ) alignment to BAM "
   ]
  },
  {
   "cell_type": "markdown",
   "metadata": {
    "slideshow": {
     "slide_type": "subslide"
    }
   },
   "source": [
    "### Software Utilities Used"
   ]
  },
  {
   "cell_type": "markdown",
   "metadata": {
    "slideshow": {
     "slide_type": "fragment"
    }
   },
   "source": [
    "#### curl\n",
    "    https://curl.haxx.se/\n",
    "command line tool and library for transferring data with URLs"
   ]
  },
  {
   "cell_type": "markdown",
   "metadata": {
    "slideshow": {
     "slide_type": "fragment"
    }
   },
   "source": [
    "#### gzip\n",
    "    https://www.gnu.org/software/gzip/\n",
    "popular data compression program"
   ]
  },
  {
   "cell_type": "markdown",
   "metadata": {
    "slideshow": {
     "slide_type": "subslide"
    }
   },
   "source": [
    "#### fastp\n",
    "    https://github.com/OpenGene/fastp\n",
    "all-in-one FASTQ preprocessor (QC/adapters/trimming/filtering/splitting/merging...)"
   ]
  },
  {
   "cell_type": "markdown",
   "metadata": {
    "slideshow": {
     "slide_type": "fragment"
    }
   },
   "source": [
    "#### bwa\n",
    "    http://bio-bwa.sourceforge.net/\n",
    "software package for mapping low-divergent sequences against a large reference genome"
   ]
  },
  {
   "cell_type": "markdown",
   "metadata": {
    "slideshow": {
     "slide_type": "fragment"
    }
   },
   "source": [
    "#### samtools\n",
    "    https://github.com/samtools/samtools\n",
    "tools... for manipulating [Reading/writing/editing/indexing/viewing] next-generation sequencing data [SAM/BAM/CRAM format]"
   ]
  },
  {
   "cell_type": "markdown",
   "metadata": {
    "slideshow": {
     "slide_type": "slide"
    }
   },
   "source": [
    "## Motivation\n",
    "Bioinformatics workflows are usually *big*...\n",
    "  - big input files\n",
    "  - many workflow **stages**\n",
    "    + each workflow stage usually takes as input a file(s) from the previous stage, and produces output file(s) for the next stage\n",
    "    + each stage may use a different software tool"
   ]
  },
  {
   "cell_type": "markdown",
   "metadata": {
    "slideshow": {
     "slide_type": "slide"
    }
   },
   "source": [
    "## Example: 1/2 of a variant-calling pipeline\n",
    "<img src='https://github.com/harvardinformatics/shortRead_mapping_variantCalling/raw/3965d337e41b6d5fc8b873d7d485fb4bf8528bee/docs/workflowSchematic_fastq2bam.png'>\n",
    "\n",
    "*source: Brian Arnold, https://github.com/harvardinformatics/shortRead_mapping_variantCalling/ *"
   ]
  },
  {
   "cell_type": "markdown",
   "metadata": {
    "slideshow": {
     "slide_type": "slide"
    }
   },
   "source": [
    "### Introducing Pipes\n",
    "* One-way commmunication channel between two processes\n",
    "* Data written (sequentially) by one process read (sequentially) by another\n",
    "* Operating system kernel blocks writer (process in a \"sleep\" state) until data is read by reader\n",
    "  + Similarly, reader blocks until writer writes data"
   ]
  },
  {
   "cell_type": "markdown",
   "metadata": {
    "slideshow": {
     "slide_type": "slide"
    }
   },
   "source": [
    "### Unix processes start with 3 open \"files\"\n",
    "\n",
    "![process](images/process.svg)\n",
    "\n",
    "#### These special files---standard input (\"stdin\"), standard output (\"stdout\"), and standard error (\"stderr\")---are connected to the terminal in an interactive shell"
   ]
  },
  {
   "cell_type": "markdown",
   "metadata": {
    "slideshow": {
     "slide_type": "slide"
    }
   },
   "source": [
    "## Why use pipes?\n",
    "### Example: Sequential Laundry\n",
    "![laundry1](images/laundry1.gif)\n",
    "*source: https://cs.stanford.edu/people/eroberts/courses/soco/projects/risc/pipelining/index.html*"
   ]
  },
  {
   "cell_type": "markdown",
   "metadata": {
    "slideshow": {
     "slide_type": "subslide"
    }
   },
   "source": [
    "## Why use pipes?\n",
    "### Example: Pipelined Laundry\n",
    "![laundry2](images/laundry2.gif)\n",
    "*source: https://cs.stanford.edu/people/eroberts/courses/soco/projects/risc/pipelining/index.html*"
   ]
  },
  {
   "cell_type": "markdown",
   "metadata": {
    "slideshow": {
     "slide_type": "slide"
    }
   },
   "source": [
    "## Pipes in Programming Languages \n",
    "* The (Unix/Linux/POSIX) shell command language (understood by bash, zsh, sh, and others) has a construct called a pipe (`|` operator)\n",
    "* Many other programming languages allow use of pipes in some fashion:\n",
    "  - AWK: `command | getline [var]` to read, `print ... > command` to \n",
    "  - Python: [subprocess.Popen()](https://docs.python.org/3/library/subprocess.html#replacing-shell-pipeline)\n",
    "  - R: `pipe()`\n",
    "    + Not to be confused with the pipe `%>%` operator from the magrittr package"
   ]
  },
  {
   "cell_type": "markdown",
   "metadata": {
    "slideshow": {
     "slide_type": "slide"
    }
   },
   "source": [
    "### (shell) Pipeline\n",
    "* A sequence of commands separated by the `|` (pipe) operator\n",
    "* standard output of the command on the left of the `|` is connected to the standard input of the command to the right of the `|`"
   ]
  },
  {
   "cell_type": "markdown",
   "metadata": {
    "slideshow": {
     "slide_type": "slide"
    }
   },
   "source": [
    "---\n",
    "## Examples\n",
    "---"
   ]
  },
  {
   "cell_type": "markdown",
   "metadata": {
    "slideshow": {
     "slide_type": "slide"
    }
   },
   "source": [
    "#### Example 1: download FASTA file and compress on-the-fly"
   ]
  },
  {
   "cell_type": "code",
   "execution_count": null,
   "metadata": {},
   "outputs": [],
   "source": [
    "mkdir -p input\n",
    "GENOME_FASTA_URL=https://github.com/harvardinformatics/shortRead_mapping_variantCalling/raw/b120a823c23b1eaf1cfb95ea5d5ca0ce26a50c32/data/genome/Tgut_subseg_renamed.fa\n",
    "curl -sL ${GENOME_FASTA_URL} | gzip -v -9 > input/Tgut_subseg_renamed.fa.gz\n",
    "ls -lh input/Tgut_subseg_renamed.fa.gz"
   ]
  },
  {
   "cell_type": "markdown",
   "metadata": {},
   "source": [
    "##### Explanation: \n",
    "* `curl` downloads the FASTA file from the specified URL and writes it to its stdout.\n",
    "* `gzip`, when not given a file argument, reads (uncompressed) data from stdin and writes compressed data to stdout.\n",
    "  - The `gzip -v` option prints the compression ratio to stderr_, the `-9` option specififies maximal compression (==more run time, but better compression)\n",
    "* The shell output redirection operator (`>`) writes the stdout of `gzip` to a file (Tgut_subseg_renamed.fa.gz)"
   ]
  },
  {
   "cell_type": "markdown",
   "metadata": {},
   "source": [
    "#### Example 2: Print the length of each sequence in the compressed FASTA file\n",
    "Our FASTA file has one sequence per line. [AWK](https://en.wikipedia.org/wiki/AWK) can generate a tab-separated list of sequence ID and sequence length (\n",
    "\n",
    "_Problem:_ AWK cannot read a gzip file directly.\n",
    "\n",
    "_Solution:_ Combine `gzip` options`-d` (decompress) and `-c` (write to stdout), and pipe to awk's stdin:"
   ]
  },
  {
   "cell_type": "code",
   "execution_count": null,
   "metadata": {},
   "outputs": [],
   "source": [
    "gzip -dc input/Tgut_subseg_renamed.fa.gz |\n",
    "  awk '/^>/ { if (len) print len; len = 0; printf(\"%s\\t\", substr($1,2)) }\n",
    "       !/^>/ { len+=length }\n",
    "       END { printf(\"%i\\n\", len) }'"
   ]
  },
  {
   "cell_type": "markdown",
   "metadata": {},
   "source": [
    "## A special \"file\": /dev/stdin\n",
    "\n",
    "* Some utilities either accept an optional file argument (e.g., gzip, awk, most other unix utilities), reading from stdin if no input file is specified\n",
    "* Some utilities accept \"-\" in place of either an input or output file argument to mean stdin (or stdout) respectively\n",
    "* Other utilities require an actual file argument; e.g. `bwa mem`:\n",
    "```\n",
    "      bwa mem [options] db.prefix reads.fq [mates.fq]\n",
    "```\n",
    "  - **reads.fq** is required. However, `bwa mem` reads **reads.fq** sequentially, and can conceptually use a pipe.\n",
    "  \n",
    "```\n",
    "    fastp reads.fq | bwa mem db.prefix /dev/stdin\n",
    "```\n",
    "  \n",
    "**Note: this works only if the utility reads (or writes) the file sequentially**"
   ]
  },
  {
   "cell_type": "markdown",
   "metadata": {},
   "source": [
    "Fetch sequence reads to align:"
   ]
  },
  {
   "cell_type": "code",
   "execution_count": null,
   "metadata": {},
   "outputs": [],
   "source": [
    "(cd input && curl -LO 'https://github.com/harvardinformatics/shortRead_mapping_variantCalling/raw/5530f1991da66af82d0213bc3492da8a431a1a92/data/fastq/ERR1013163_[1-2].fastq.gz')"
   ]
  },
  {
   "cell_type": "markdown",
   "metadata": {},
   "source": [
    "Next, index the genome file so `bwa` can align reads to it:\n",
    "\n",
    "_Note: `bwa` can index (gzip-)compressed reference sequences_"
   ]
  },
  {
   "cell_type": "code",
   "execution_count": null,
   "metadata": {},
   "outputs": [],
   "source": [
    "bwa index input/Tgut_subseg_renamed.fa.gz"
   ]
  },
  {
   "cell_type": "code",
   "execution_count": null,
   "metadata": {},
   "outputs": [],
   "source": [
    "Running the "
   ]
  },
  {
   "cell_type": "code",
   "execution_count": null,
   "metadata": {},
   "outputs": [],
   "source": [
    "set -o xtrace\n",
    "mkdir -p orig\n",
    "time (\n",
    "cd orig\n",
    "ln -sf ../input\n",
    "# trim reads, generate HTML report\n",
    "fastp --in1 input/ERR1013163_1.fastq.gz --in2 input/ERR1013163_2.fastq.gz --out1 ERR1013163_1.fastq-trimmed.gz --out2 ERR1013163_2.fastq-trimmed.gz\n",
    "# align reads\n",
    "bwa mem input/Tgut_subseg_renamed.fa.gz ERR1013163_1.fastq-trimmed.gz ERR1013163_2.fastq-trimmed.gz > ERR1013163.sam\n",
    "# sort alignments by read name\n",
    "samtools sort -n --output-fmt bam -o ERR1013163.bam ERR1013163.sam \n",
    "# fill in mate coordinates and insert size in BAM records\n",
    "samtools fixmate -m ERR1013163.bam ERR1013163-fixmate.bam\n",
    "# sort by alignment coordinate\n",
    "samtools sort -o ERR1013163-fixmate-sort.bam ERR1013163-fixmate.bam\n",
    "# mark duplicate alignments\n",
    "samtools markdup -f markdup.stats --output-fmt-option level=9 ERR1013163-fixmate-sort.bam out.bam\n",
    "# index resulting bam file \n",
    "samtools index out.bam\n",
    "samtools stats out.bam > out.bam.stats.txt\n",
    ")\n"
   ]
  },
  {
   "cell_type": "markdown",
   "metadata": {},
   "source": [
    "fastp supports [interleaved](https://github.com/OpenGene/fastp#output-to-stdout) output"
   ]
  },
  {
   "cell_type": "code",
   "execution_count": null,
   "metadata": {},
   "outputs": [],
   "source": [
    "ls -lh orig"
   ]
  },
  {
   "cell_type": "code",
   "execution_count": null,
   "metadata": {},
   "outputs": [],
   "source": [
    "mkdir -p ex-pipe\n",
    "time (\n",
    "cd ex-pipe\n",
    "ln -s ../input\n",
    "fastp --in1 input/ERR1013163_1.fastq.gz --in2 input/ERR1013163_2.fastq.gz --stdout 2>/dev/null |\n",
    "  # bwa mem requires a FASTQ file operand <in1.fq> (will not take reads from stdin).\n",
    "  # /dev/stdin is a special file that represents a process's standard input\n",
    "  bwa mem input/Tgut_subseg_renamed.fa.gz /dev/stdin 2> /dev/null |\n",
    "    # sort input SAM records by read name (\"-n\"), write uncompressed BAM ((compression) level=0) to stdout\n",
    "    # (otherwise, samtools will detect input format & use same output format)\n",
    "    samtools sort -n --output-fmt bam --output-fmt-option level=0 |\n",
    "      # Usage: samtools fixmate <in.nameSrt.bam> <out.nameSrt.bam>\n",
    "      # samtools allows \"-\" to be used in place of \n",
    "      samtools fixmate -m - - |\n",
    "        # samtools sort reads from stdin and writes to stdout by default\n",
    "        samtools sort |\n",
    "          samtools markdup -f markdup.stats --output-fmt-option level=9 - - |\n",
    "            # samtools index requires an input bam file argument; use /dev/stdin\n",
    "            tee out.bam >(samtools index /dev/stdin out.bam.bai) |\n",
    "              # samtools stats reads from stdin and writes to stdout by default\n",
    "              samtools stats > out.bam.stats.txt\n",
    ")"
   ]
  },
  {
   "cell_type": "code",
   "execution_count": null,
   "metadata": {},
   "outputs": [],
   "source": [
    "ls -lh ex-pipe"
   ]
  },
  {
   "cell_type": "markdown",
   "metadata": {},
   "source": [
    "Let's take a closer look at the end of the pipeline.\n",
    "\n",
    "To additional tools are being introduced: the [tee](https://en.wikipedia.org/wiki/Tee_(command)) command, and [process substitution](https://en.wikipedia.org/wiki/Process_substitution) ( `>(...)` )\n",
    "\n",
    "### tee\n",
    "\n",
    "`tee` duplicates its stdin to one or more files in addition to stdout:\n",
    "\n",
    "![tee](https://upload.wikimedia.org/wikipedia/commons/2/24/Tee.svg)\n",
    "\n",
    "*source: Wikipedia*"
   ]
  },
  {
   "cell_type": "markdown",
   "metadata": {},
   "source": [
    "### Process Substitution\n",
    "`command1 >(command2)` creates a \"named pipe\" (aka FIFO) special file TODO "
   ]
  },
  {
   "cell_type": "code",
   "execution_count": null,
   "metadata": {},
   "outputs": [],
   "source": [
    "ls -l >(sleep 1)"
   ]
  },
  {
   "cell_type": "markdown",
   "metadata": {},
   "source": [
    "```\n",
    "... |\n",
    "  samtools markdup -f markdup.stats --output-fmt-option level=9 - - |\n",
    "    tee out.bam >(samtools index /dev/stdin out.bam.bai) |\n",
    "      samtools stats > out.bam.stats.txt\n",
    "```\n",
    "![pipe](images/pipe.svg)"
   ]
  },
  {
   "cell_type": "markdown",
   "metadata": {},
   "source": [
    "# The End!\n",
    "## Questions, comments...?"
   ]
  },
  {
   "cell_type": "markdown",
   "metadata": {},
   "source": [
    "---\n",
    "## Bonus material\n",
    "---"
   ]
  },
  {
   "cell_type": "markdown",
   "metadata": {},
   "source": [
    "### pipefail\n",
    "By convention, processes return an exit status of 0 to indicate success, and > 0 to indicate failure.\n",
    "\n",
    "By default, the exit status of a pipeline is the exit status of the last command in the pipeline:"
   ]
  },
  {
   "cell_type": "code",
   "execution_count": null,
   "metadata": {},
   "outputs": [],
   "source": [
    "samtools sort foo/bar.sam | head\n",
    "echo \"exit status: $?\""
   ]
  },
  {
   "cell_type": "markdown",
   "metadata": {},
   "source": [
    "This is inconvenient when trying to determine if a (Slurm) job script ran successfully, or if it's desired to terminate the script if any command fails (e.g., using `set -o errexit`).\n",
    "\n",
    "The `pipefail` option causes the exit status of a pipeline to be the exit status of the last command in the pipeline to have a non-zero exit status:"
   ]
  },
  {
   "cell_type": "code",
   "execution_count": null,
   "metadata": {},
   "outputs": [],
   "source": [
    "set -o pipefail\n",
    "samtools sort foo/bar.sam | head\n",
    "echo \"exit status: $?\""
   ]
  },
  {
   "cell_type": "markdown",
   "metadata": {},
   "source": [
    "## Other Terms\n",
    "\n",
    "### File\n",
    "> An object that can be written to, or read from, or both.\n",
    "\n",
    "### Regular File\n",
    "> A file that is a _**randomly accessible**_ sequence of bytes.\n",
    "```\n",
    "$ ls -lh ERR1013163_1.fastq.gz\n",
    "-rw-r--r-- 1 jovyan root 3.8M Jun 10 16:00 ERR1013163_1.fastq.gz\n",
    "\n",
    "### FIFO (aka \"named pipe\")\n",
    "**F**irst **I**n **F**irst **O**ut\n",
    "\n",
    "> A type of file with the property that data written to such a file is read on a first-in-first-out basis.\n",
    "\n",
    "_In other words, data are written / read **sequentially**_\n",
    "\n",
    "## FIFO Example"
   ]
  },
  {
   "cell_type": "code",
   "execution_count": null,
   "metadata": {},
   "outputs": [],
   "source": [
    "set -o xtrace\n",
    "mkfifo test.fifo\n",
    "printf 'line1\\nline2\\nline3\\n' > test.fifo &\n",
    "sleep 5\n",
    "jobs\n",
    "sleep 5\n",
    "cat test.fifo"
   ]
  }
 ],
 "metadata": {
  "kernelspec": {
   "display_name": "Bash",
   "language": "bash",
   "name": "bash"
  },
  "language_info": {
   "codemirror_mode": "shell",
   "file_extension": ".sh",
   "mimetype": "text/x-sh",
   "name": "bash"
  }
 },
 "nbformat": 4,
 "nbformat_minor": 4
}
